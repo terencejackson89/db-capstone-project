{
 "cells": [
  {
   "cell_type": "markdown",
   "id": "e16bd51f",
   "metadata": {},
   "source": [
    "Import MySQL Connector module and establish connection to Little Lemon DB"
   ]
  },
  {
   "cell_type": "code",
   "execution_count": 19,
   "id": "ebff95f2",
   "metadata": {},
   "outputs": [],
   "source": [
    "import mysql.connector as connector"
   ]
  },
  {
   "cell_type": "code",
   "execution_count": 20,
   "id": "0bfe5eff",
   "metadata": {},
   "outputs": [],
   "source": [
    "connection = connector.connect(user=\"test\", password=\"test1234!\", db=\"LittleLemonDB\")"
   ]
  },
  {
   "cell_type": "markdown",
   "id": "c8c20dbf",
   "metadata": {},
   "source": [
    "Create cursor to execute SQL queries"
   ]
  },
  {
   "cell_type": "code",
   "execution_count": 21,
   "id": "41c8b793",
   "metadata": {},
   "outputs": [],
   "source": [
    "cursor = connection.cursor()"
   ]
  },
  {
   "cell_type": "markdown",
   "id": "d7d64505",
   "metadata": {},
   "source": [
    "Create and execute query to show all tables in Little Lemon database"
   ]
  },
  {
   "cell_type": "code",
   "execution_count": 22,
   "id": "aefcb8c4",
   "metadata": {},
   "outputs": [],
   "source": [
    "show_tables_query = \"\"\"SHOW TABLES\"\"\""
   ]
  },
  {
   "cell_type": "code",
   "execution_count": 23,
   "id": "6eac0ba0",
   "metadata": {},
   "outputs": [],
   "source": [
    "cursor.execute(show_tables_query)"
   ]
  },
  {
   "cell_type": "code",
   "execution_count": 24,
   "id": "563d8967",
   "metadata": {},
   "outputs": [],
   "source": [
    "results = cursor.fetchall()"
   ]
  },
  {
   "cell_type": "code",
   "execution_count": 25,
   "id": "3e4ba182",
   "metadata": {},
   "outputs": [
    {
     "name": "stdout",
     "output_type": "stream",
     "text": [
      "[('Bookings',), ('customerorderdetails',), ('Customers',), ('Employees',), ('MenuItems',), ('Menus',), ('orders',), ('OrderStatus',), ('ordersview',)]\n"
     ]
    }
   ],
   "source": [
    "print(results)"
   ]
  },
  {
   "cell_type": "markdown",
   "id": "055a3d11",
   "metadata": {},
   "source": [
    "Create and execute query to show all customers with orders totalling greater than 50 dollars"
   ]
  },
  {
   "cell_type": "code",
   "execution_count": 26,
   "id": "460b7b59",
   "metadata": {},
   "outputs": [],
   "source": [
    "customers_with_bills_over_50 = \"\"\"SELECT c.*, o.Total FROM Customers c JOIN Orders o ON c.CustomerID = o.CustomerID WHERE o.Total > 50\"\"\""
   ]
  },
  {
   "cell_type": "code",
   "execution_count": 27,
   "id": "60f421e2",
   "metadata": {},
   "outputs": [],
   "source": [
    "cursor.execute(customers_with_bills_over_50)"
   ]
  },
  {
   "cell_type": "code",
   "execution_count": 28,
   "id": "943d4869",
   "metadata": {},
   "outputs": [],
   "source": [
    "customer_details = cursor.fetchall()"
   ]
  },
  {
   "cell_type": "code",
   "execution_count": 29,
   "id": "21c7e6c6",
   "metadata": {},
   "outputs": [
    {
     "name": "stdout",
     "output_type": "stream",
     "text": [
      "(4, 'John Nash', '812094152', 'j.nash@mail.org', Decimal('120.00'))\n",
      "(2, 'April Vega', '834110531', 'a.vega@mail.org', Decimal('175.50'))\n",
      "(6, 'Jerry Pine', '627924365', 'j.pine@mail.org', Decimal('110.00'))\n",
      "(3, 'Adam Appleseed', '720418239', 'a.appleseed@mail.org', Decimal('200.00'))\n",
      "(1, 'James Pascual', '912412142', 'j.pascual@mail.org', Decimal('95.75'))\n",
      "(5, 'Sarah Southerland', '462163087', 's.southerland@mail.org', Decimal('130.25'))\n",
      "(8, 'Joe Reese', '294745628', 'j.reese@mail.org', Decimal('165.50'))\n",
      "(7, 'Samantha Yorke', '341630936', 's.yorke@mail.org', Decimal('105.00'))\n"
     ]
    }
   ],
   "source": [
    "for row in customer_details:\n",
    "    print(row)"
   ]
  }
 ],
 "metadata": {
  "kernelspec": {
   "display_name": "Python 3 (ipykernel)",
   "language": "python",
   "name": "python3"
  },
  "language_info": {
   "codemirror_mode": {
    "name": "ipython",
    "version": 3
   },
   "file_extension": ".py",
   "mimetype": "text/x-python",
   "name": "python",
   "nbconvert_exporter": "python",
   "pygments_lexer": "ipython3",
   "version": "3.9.7"
  }
 },
 "nbformat": 4,
 "nbformat_minor": 5
}
